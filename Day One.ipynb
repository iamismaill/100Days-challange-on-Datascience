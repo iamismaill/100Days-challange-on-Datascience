{
  "nbformat": 4,
  "nbformat_minor": 0,
  "metadata": {
    "colab": {
      "name": "Untitled14.ipynb",
      "provenance": [],
      "collapsed_sections": []
    },
    "kernelspec": {
      "name": "python3",
      "display_name": "Python 3"
    },
    "language_info": {
      "name": "python"
    }
  },
  "cells": [
    {
      "cell_type": "markdown",
      "metadata": {
        "id": "wEgMTPkIihpN"
      },
      "source": [
        "####Day One - 100 Days challange in Data Science"
      ]
    },
    {
      "cell_type": "markdown",
      "metadata": {
        "id": "1BxKVJ9wGZB-"
      },
      "source": [
        "# Measuring central tendency  "
      ]
    },
    {
      "cell_type": "markdown",
      "metadata": {
        "id": "LzpQz3N-G_5g"
      },
      "source": [
        "**`Measuring central tendency : means measuring the center or distribution of location of values of a data set. It gives an idea of the average value of the data in the data set and also an indication of how widely the values are spread in the data set,  There are three main measures of central tendency which can be calculated using the methods in pandas python library.\n",
        "\n",
        "- **Mean** - It is the Average value of the data which is a division of sum of the values with the number of values.\n",
        "\n",
        "- **Median** - It is the middle value in distribution when the values are arranged in ascending or descending order.\n",
        "\n",
        "- **Mode** - It is the most commonly occurring value in a distribution\n",
        "\n",
        "---"
      ]
    },
    {
      "cell_type": "markdown",
      "metadata": {
        "id": "haMzwEAdAcaM"
      },
      "source": [
        " - **Mean** : The mean value is the arithmetic mean or average, which is computed by the sum of\n",
        "observations divided by the number of observations."
      ]
    },
    {
      "cell_type": "code",
      "metadata": {
        "colab": {
          "base_uri": "https://localhost:8080/",
          "height": 200
        },
        "id": "vHwel048AYdK",
        "outputId": "15b88018-f0ae-4655-9e4d-f0985b32b721"
      },
      "source": [
        "# Import pandas library\n",
        "import pandas as pd\n",
        "# Creating sample dataframe \n",
        "\n",
        "sample_data ={'Student name':['Mohamed','Ahmed','John','Chung-Ho','Aera','Isse'],'English':\n",
        "              [90,80,79,76,90,87],'Computer':[87,65,78,81,79,84]}\n",
        "sample_data = pd.DataFrame(sample_data, columns = ['Student name', 'English',\n",
        "'Computer'])\n",
        "sample_data.head()\n",
        "##here we create sample data let's calculate the mean"
      ],
      "execution_count": null,
      "outputs": [
        {
          "output_type": "execute_result",
          "data": {
            "text/html": [
              "<div>\n",
              "<style scoped>\n",
              "    .dataframe tbody tr th:only-of-type {\n",
              "        vertical-align: middle;\n",
              "    }\n",
              "\n",
              "    .dataframe tbody tr th {\n",
              "        vertical-align: top;\n",
              "    }\n",
              "\n",
              "    .dataframe thead th {\n",
              "        text-align: right;\n",
              "    }\n",
              "</style>\n",
              "<table border=\"1\" class=\"dataframe\">\n",
              "  <thead>\n",
              "    <tr style=\"text-align: right;\">\n",
              "      <th></th>\n",
              "      <th>Student name</th>\n",
              "      <th>English</th>\n",
              "      <th>Computer</th>\n",
              "    </tr>\n",
              "  </thead>\n",
              "  <tbody>\n",
              "    <tr>\n",
              "      <th>0</th>\n",
              "      <td>Mohamed</td>\n",
              "      <td>90</td>\n",
              "      <td>87</td>\n",
              "    </tr>\n",
              "    <tr>\n",
              "      <th>1</th>\n",
              "      <td>Ahmed</td>\n",
              "      <td>80</td>\n",
              "      <td>65</td>\n",
              "    </tr>\n",
              "    <tr>\n",
              "      <th>2</th>\n",
              "      <td>John</td>\n",
              "      <td>79</td>\n",
              "      <td>78</td>\n",
              "    </tr>\n",
              "    <tr>\n",
              "      <th>3</th>\n",
              "      <td>Chung-Ho</td>\n",
              "      <td>76</td>\n",
              "      <td>81</td>\n",
              "    </tr>\n",
              "    <tr>\n",
              "      <th>4</th>\n",
              "      <td>Aera</td>\n",
              "      <td>90</td>\n",
              "      <td>79</td>\n",
              "    </tr>\n",
              "  </tbody>\n",
              "</table>\n",
              "</div>"
            ],
            "text/plain": [
              "  Student name  English  Computer\n",
              "0      Mohamed       90        87\n",
              "1        Ahmed       80        65\n",
              "2         John       79        78\n",
              "3     Chung-Ho       76        81\n",
              "4         Aera       90        79"
            ]
          },
          "metadata": {},
          "execution_count": 2
        }
      ]
    },
    {
      "cell_type": "code",
      "metadata": {
        "colab": {
          "base_uri": "https://localhost:8080/"
        },
        "id": "8pM84cTrCOb3",
        "outputId": "52d4560d-0cd1-49f5-f24d-654f191af066"
      },
      "source": [
        "# computing the mean of English score column\n",
        "sample_data['English'].mean()"
      ],
      "execution_count": null,
      "outputs": [
        {
          "output_type": "execute_result",
          "data": {
            "text/plain": [
              "83.66666666666667"
            ]
          },
          "metadata": {},
          "execution_count": 6
        }
      ]
    },
    {
      "cell_type": "code",
      "metadata": {
        "id": "JKYb1r16KYD-"
      },
      "source": [
        "# computing the mean of English score column\n",
        "sample_data['Computer'].mean()"
      ],
      "execution_count": null,
      "outputs": []
    },
    {
      "cell_type": "markdown",
      "metadata": {
        "id": "y16fwz4TCreS"
      },
      "source": [
        "In the preceding code block, I have created one DataFrame named sample_data that has three \n",
        "columns (Student name, English and\n",
        "Computuer) and i computed the mean using the mean()\n",
        "function. "
      ]
    },
    {
      "cell_type": "code",
      "metadata": {
        "colab": {
          "base_uri": "https://localhost:8080/",
          "height": 321
        },
        "id": "TaWLgD_LFt2P",
        "outputId": "f0fdd127-a6fc-4dcc-e51c-02cde80183b8"
      },
      "source": [
        "## visualizing the mean in a bar chart\n",
        "sample_data.mean().plot(kind='bar')"
      ],
      "execution_count": null,
      "outputs": [
        {
          "output_type": "execute_result",
          "data": {
            "text/plain": [
              "<matplotlib.axes._subplots.AxesSubplot at 0x7f3897008890>"
            ]
          },
          "metadata": {},
          "execution_count": 39
        },
        {
          "output_type": "display_data",
          "data": {
            "image/png": "[encoded data removed]",
            "text/plain": [
              "<Figure size 432x288 with 1 Axes>"
            ]
          },
          "metadata": {
            "needs_background": "light"
          }
        }
      ]
    },
    {
      "cell_type": "code",
      "metadata": {
        "id": "HS5O28_BC7rH"
      },
      "source": [
        "#import state data set \n",
        "import pandas as pd \n",
        "data = pd.read_csv(\"state.csv\")\n",
        "data.head()"
      ],
      "execution_count": null,
      "outputs": []
    },
    {
      "cell_type": "markdown",
      "metadata": {
        "id": "NMCPx_0FE5Mw"
      },
      "source": [
        "The above data frame shows the first few rows in the data set containing population and murder rates for US , let's compute the mean of the murder rate column "
      ]
    },
    {
      "cell_type": "code",
      "metadata": {
        "colab": {
          "base_uri": "https://localhost:8080/"
        },
        "id": "CLILGAPXEwil",
        "outputId": "44aaeea1-de8b-4eb2-8c1b-32ef211018fd"
      },
      "source": [
        "### Let's compute the mean of murder.rate & population column \n",
        "data['Murder.Rate'].mean()  ,data['Population'].mean()"
      ],
      "execution_count": null,
      "outputs": [
        {
          "output_type": "execute_result",
          "data": {
            "text/plain": [
              "(4.066, 6162876.3)"
            ]
          },
          "metadata": {},
          "execution_count": 13
        }
      ]
    },
    {
      "cell_type": "markdown",
      "metadata": {
        "id": "WKHRse2HHrbN"
      },
      "source": [
        "- **Median** - It is the middle value in distribution when the values are arranged in ascending or descending order."
      ]
    },
    {
      "cell_type": "code",
      "metadata": {
        "id": "vCU92LD8FcO0"
      },
      "source": [
        "## let's compute the median of murder rate & population column in our state dataset \n",
        "data['Murder.Rate'].median()  ,data['Population'].median()"
      ],
      "execution_count": null,
      "outputs": []
    },
    {
      "cell_type": "markdown",
      "metadata": {
        "id": "l9tNtxUaILh-"
      },
      "source": [
        "In the preceding code block, I have computed the median of the English score\n",
        "column using the median() function. Lets compute another central tendency measure: the  mode"
      ]
    },
    {
      "cell_type": "markdown",
      "metadata": {
        "id": "kBCZxovjIbL8"
      },
      "source": [
        " - **Mode** - It is the most commonly occurring value in a distribution"
      ]
    },
    {
      "cell_type": "code",
      "metadata": {
        "colab": {
          "base_uri": "https://localhost:8080/"
        },
        "id": "vmpcTx0fH0sq",
        "outputId": "846f6697-b0b2-470d-d289-7c0e2e51d17d"
      },
      "source": [
        "## let's compute the mode of murder rate & population column in our state dataset \n",
        "sample_data['English'].mode()"
      ],
      "execution_count": null,
      "outputs": [
        {
          "output_type": "execute_result",
          "data": {
            "text/plain": [
              "0    90\n",
              "dtype: int64"
            ]
          },
          "metadata": {},
          "execution_count": 36
        }
      ]
    },
    {
      "cell_type": "code",
      "metadata": {
        "colab": {
          "base_uri": "https://localhost:8080/"
        },
        "id": "VToHTBlkSkCB",
        "outputId": "cba2ed31-b660-4038-9d08-30166abdca4e"
      },
      "source": [
        "data['Murder.Rate'].mode()"
      ],
      "execution_count": 4,
      "outputs": [
        {
          "output_type": "execute_result",
          "data": {
            "text/plain": [
              "0    1.6\n",
              "1    2.0\n",
              "2    5.7\n",
              "dtype: float64"
            ]
          },
          "metadata": {},
          "execution_count": 4
        }
      ]
    },
    {
      "cell_type": "code",
      "metadata": {
        "id": "da-HmlG1SiR5"
      },
      "source": [
        ""
      ],
      "execution_count": null,
      "outputs": []
    },
    {
      "cell_type": "code",
      "metadata": {
        "id": "J53JPE2vK_UD",
        "colab": {
          "base_uri": "https://localhost:8080/",
          "height": 290
        },
        "outputId": "d6f86303-937d-42d6-88ef-2aa02a6536af"
      },
      "source": [
        "## finding the central attendacny using describe function \n",
        "##The describe() method is used for calculating some statistical data like percentile, mean and std of the numerical values of the Series or DataFrame\n",
        "summary = data.describe()\n",
        "summary"
      ],
      "execution_count": null,
      "outputs": [
        {
          "output_type": "execute_result",
          "data": {
            "text/html": [
              "<div>\n",
              "<style scoped>\n",
              "    .dataframe tbody tr th:only-of-type {\n",
              "        vertical-align: middle;\n",
              "    }\n",
              "\n",
              "    .dataframe tbody tr th {\n",
              "        vertical-align: top;\n",
              "    }\n",
              "\n",
              "    .dataframe thead th {\n",
              "        text-align: right;\n",
              "    }\n",
              "</style>\n",
              "<table border=\"1\" class=\"dataframe\">\n",
              "  <thead>\n",
              "    <tr style=\"text-align: right;\">\n",
              "      <th></th>\n",
              "      <th>Population</th>\n",
              "      <th>Murder.Rate</th>\n",
              "    </tr>\n",
              "  </thead>\n",
              "  <tbody>\n",
              "    <tr>\n",
              "      <th>count</th>\n",
              "      <td>5.000000e+01</td>\n",
              "      <td>50.000000</td>\n",
              "    </tr>\n",
              "    <tr>\n",
              "      <th>mean</th>\n",
              "      <td>6.162876e+06</td>\n",
              "      <td>4.066000</td>\n",
              "    </tr>\n",
              "    <tr>\n",
              "      <th>std</th>\n",
              "      <td>6.848235e+06</td>\n",
              "      <td>1.915736</td>\n",
              "    </tr>\n",
              "    <tr>\n",
              "      <th>min</th>\n",
              "      <td>5.636260e+05</td>\n",
              "      <td>0.900000</td>\n",
              "    </tr>\n",
              "    <tr>\n",
              "      <th>25%</th>\n",
              "      <td>1.833004e+06</td>\n",
              "      <td>2.425000</td>\n",
              "    </tr>\n",
              "    <tr>\n",
              "      <th>50%</th>\n",
              "      <td>4.436370e+06</td>\n",
              "      <td>4.000000</td>\n",
              "    </tr>\n",
              "    <tr>\n",
              "      <th>75%</th>\n",
              "      <td>6.680312e+06</td>\n",
              "      <td>5.550000</td>\n",
              "    </tr>\n",
              "    <tr>\n",
              "      <th>max</th>\n",
              "      <td>3.725396e+07</td>\n",
              "      <td>10.300000</td>\n",
              "    </tr>\n",
              "  </tbody>\n",
              "</table>\n",
              "</div>"
            ],
            "text/plain": [
              "         Population  Murder.Rate\n",
              "count  5.000000e+01    50.000000\n",
              "mean   6.162876e+06     4.066000\n",
              "std    6.848235e+06     1.915736\n",
              "min    5.636260e+05     0.900000\n",
              "25%    1.833004e+06     2.425000\n",
              "50%    4.436370e+06     4.000000\n",
              "75%    6.680312e+06     5.550000\n",
              "max    3.725396e+07    10.300000"
            ]
          },
          "metadata": {},
          "execution_count": 4
        }
      ]
    },
    {
      "cell_type": "code",
      "metadata": {
        "id": "JmFG6pcuLMRS"
      },
      "source": [
        ""
      ],
      "execution_count": null,
      "outputs": []
    },
    {
      "cell_type": "markdown",
      "metadata": {
        "id": "_EQhVe55Xkmw"
      },
      "source": [
        ""
      ]
    },
    {
      "cell_type": "markdown",
      "metadata": {
        "id": "Hj-uGk-DXnOX"
      },
      "source": [
        "# Measuring Dispersion\n",
        "  ** Dispersion metrics measure the deviation in observation , in other words dispersion help us to understand the distribution of our data, the most popular dispersions metrics are range , interquartile , variance and standard deviation , let's see each dispersion measure dispersion measure in detial as follows \n",
        "\n",
        "\n",
        "\n"
      ]
    },
    {
      "cell_type": "markdown",
      "metadata": {
        "id": "bB_0ETB8XtIL"
      },
      "source": [
        "**Range** - is the difference between the maximum and minimum value of an observation .\n",
        "\n",
        "**Interquartile (IQR)** -it's easy to compute and to understand , it's way to measure the spread of the middle 50% of a given dataset , it represents the range where most of the observations lies  .\n",
        "\n",
        "**Variance** -measures the deviation from the mean , it's the average value of the squared difference between observed values and the mean , in another way variance is an average of the squared deviations from the mean divided by n – 1 where n is the number of data values.\n",
        "\n",
        "**Standard devition** is the square root of the variance \n",
        "\n"
      ]
    },
    {
      "cell_type": "code",
      "metadata": {
        "colab": {
          "base_uri": "https://localhost:8080/"
        },
        "id": "noVheyoLe7l1",
        "outputId": "c4aad37a-41cc-4d71-c84c-4e93d39193fd"
      },
      "source": [
        "## Computing the range \n",
        "range = data['Murder.Rate'].max() - data['Murder.Rate'].min()\n",
        "range"
      ],
      "execution_count": 10,
      "outputs": [
        {
          "output_type": "execute_result",
          "data": {
            "text/plain": [
              "9.4"
            ]
          },
          "metadata": {},
          "execution_count": 10
        }
      ]
    },
    {
      "cell_type": "markdown",
      "metadata": {
        "id": "3CZTZgwChRum"
      },
      "source": [
        "In the preceding above code block, I  have computed the range of murder.rate by finding the difference between the maximum and minimum , the maximum and the minium were computed using max() and min() function "
      ]
    },
    {
      "cell_type": "code",
      "metadata": {
        "colab": {
          "base_uri": "https://localhost:8080/"
        },
        "id": "cBPCvgC-fv9x",
        "outputId": "085cb2a1-5ca9-4b8d-90e2-612e4dedfb77"
      },
      "source": [
        "### Computing interquartile range \n",
        "## First quartile \n",
        "Q1 = data['Murder.Rate'].quantile(0.25)\n",
        "Q3 = data['Murder.Rate'].quantile(.57)\n",
        "IQR = Q3 - Q1 \n",
        "print (\"The interquantile range of Murder.Rage is :\",IQR)"
      ],
      "execution_count": 14,
      "outputs": [
        {
          "output_type": "execute_result",
          "data": {
            "text/plain": [
              "1.9750000000000005"
            ]
          },
          "metadata": {},
          "execution_count": 14
        }
      ]
    },
    {
      "cell_type": "markdown",
      "metadata": {
        "id": "Ti3hD7QphhNS"
      },
      "source": [
        "In the preceding code block, we have computed the IQR of murder.rate by finding the difference between the first and third quartile , both of the quartiles , I computed using the quantile(0.25) and quantile(0.75) functions"
      ]
    },
    {
      "cell_type": "code",
      "metadata": {
        "colab": {
          "base_uri": "https://localhost:8080/"
        },
        "id": "gZh5C_A8hm-g",
        "outputId": "9f4525bd-ff91-4e56-e1c0-84f18913725c"
      },
      "source": [
        "## Computing the variance \n",
        "var = data['Murder.Rate'].var()\n",
        "var"
      ],
      "execution_count": 16,
      "outputs": [
        {
          "output_type": "execute_result",
          "data": {
            "text/plain": [
              "3.670044897959184"
            ]
          },
          "metadata": {},
          "execution_count": 16
        }
      ]
    },
    {
      "cell_type": "markdown",
      "metadata": {
        "id": "k328FT6vh0oz"
      },
      "source": [
        "in the preceding above code block , I have computer the variance of Murder.Rate using var() function "
      ]
    },
    {
      "cell_type": "code",
      "metadata": {
        "colab": {
          "base_uri": "https://localhost:8080/"
        },
        "id": "2nt-icbZh9vt",
        "outputId": "509ba178-436e-4fda-986a-623dc43f60aa"
      },
      "source": [
        "## Computing the Standard deviation \n",
        "std_murder_rate = data['Murder.Rate'].std()\n",
        "std_murder_rate"
      ],
      "execution_count": 18,
      "outputs": [
        {
          "output_type": "execute_result",
          "data": {
            "text/plain": [
              "1.915736124302923"
            ]
          },
          "metadata": {},
          "execution_count": 18
        }
      ]
    },
    {
      "cell_type": "markdown",
      "metadata": {
        "id": "qfbcESJkiYtO"
      },
      "source": [
        "in the preceding above code block , I have computed the standard deviation of Murder.Rate using std() function\n"
      ]
    }
  ]
}